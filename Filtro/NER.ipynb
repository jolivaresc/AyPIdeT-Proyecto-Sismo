{
 "cells": [
  {
   "cell_type": "code",
   "execution_count": 1,
   "metadata": {
    "collapsed": true,
    "deletable": true,
    "editable": true
   },
   "outputs": [],
   "source": [
    "#!/usr/bin/env python\n",
    "# -*- coding: utf-8 -*-\n",
    "\n",
    "from pymongo import MongoClient\n",
    "from nltk.tokenize import TweetTokenizer,RegexpTokenizer\n",
    "\n",
    "from stop_words import get_stop_words\n",
    "import snowballstemmer\n",
    "from gensim import corpora, models\n",
    "import gensim\n",
    "import pandas as pd"
   ]
  },
  {
   "cell_type": "markdown",
   "metadata": {},
   "source": [
    "import snowballstemmer\n",
    "stemmer = snowballstemmer.stemmer('Spanish')\n",
    "stemmer.stemWord(\"llorar\")\n",
    "'llor'"
   ]
  },
  {
   "cell_type": "code",
   "execution_count": 2,
   "metadata": {
    "collapsed": false,
    "deletable": true,
    "editable": true
   },
   "outputs": [
    {
     "name": "stdout",
     "output_type": "stream",
     "text": [
      "Connected to MongoDB\n",
      "\n"
     ]
    }
   ],
   "source": [
    "try:\n",
    "    client = MongoClient()\n",
    "    print(\"Connected to MongoDB\\n\")\n",
    "except pymongo.errors.ConnectionFailure as e:\n",
    "    print(\"Could not connect to MongoDB\",e)"
   ]
  },
  {
   "cell_type": "code",
   "execution_count": 3,
   "metadata": {
    "collapsed": false,
    "deletable": true,
    "editable": true
   },
   "outputs": [],
   "source": [
    "db = client.sept19_26_keywords_db\n",
    "tweets = db.sept19_26_keywords_collection"
   ]
  },
  {
   "cell_type": "code",
   "execution_count": 4,
   "metadata": {
    "collapsed": false,
    "deletable": true,
    "editable": true
   },
   "outputs": [
    {
     "data": {
      "text/plain": [
       "40665"
      ]
     },
     "execution_count": 4,
     "metadata": {},
     "output_type": "execute_result"
    }
   ],
   "source": [
    "tweets.find().count()"
   ]
  },
  {
   "cell_type": "code",
   "execution_count": 5,
   "metadata": {
    "collapsed": true,
    "deletable": true,
    "editable": true
   },
   "outputs": [],
   "source": [
    "tknzr = TweetTokenizer(preserve_case=False,       # Convertir a minúsculas\n",
    "                       reduce_len=True,           # Reducir caracteres repetidos\n",
    "                       strip_handles=False)       # Mostrar @usuarios\n",
    "\n",
    "stmmr = snowballstemmer.stemmer('Spanish')"
   ]
  },
  {
   "cell_type": "code",
   "execution_count": 6,
   "metadata": {
    "collapsed": false
   },
   "outputs": [],
   "source": [
    "s0 = \"llueve otra vez silvio rodríguez vía @usuario mi canción favorita del gran silviorodríguez\"\n",
    "f=tknzr.tokenize(s0)"
   ]
  },
  {
   "cell_type": "code",
   "execution_count": 7,
   "metadata": {
    "collapsed": false
   },
   "outputs": [],
   "source": [
    "s0 = [stmmr.stemWord(i) for i in f]"
   ]
  },
  {
   "cell_type": "code",
   "execution_count": 8,
   "metadata": {
    "collapsed": false
   },
   "outputs": [
    {
     "data": {
      "text/plain": [
       "['lluev',\n",
       " 'otra',\n",
       " 'vez',\n",
       " 'silvi',\n",
       " 'rodriguez',\n",
       " 'via',\n",
       " '@usuari',\n",
       " 'mi',\n",
       " 'cancion',\n",
       " 'favorit',\n",
       " 'del',\n",
       " 'gran',\n",
       " 'silviorodriguez']"
      ]
     },
     "execution_count": 8,
     "metadata": {},
     "output_type": "execute_result"
    }
   ],
   "source": [
    "s0"
   ]
  },
  {
   "cell_type": "code",
   "execution_count": 9,
   "metadata": {
    "collapsed": false,
    "deletable": true,
    "editable": true
   },
   "outputs": [],
   "source": [
    "spec_chars = [\"…\",'\"',\"“\",\"/\",\"(\",\")\",\"[\",\"]\",\"?\",\"¿\",\"!\",\"¡\",\n",
    "                 \"rt\",\":\",\"…\",\",\",\"\\n\",\"#\",\"\\t\",\"\",\".\",\"$\",\n",
    "                 \"...\",\"-\",\"🤢\"]"
   ]
  },
  {
   "cell_type": "code",
   "execution_count": 13,
   "metadata": {
    "collapsed": true,
    "deletable": true,
    "editable": true
   },
   "outputs": [],
   "source": [
    "def clean_tweet(tmp_tweet):\n",
    "    \"\"\"\n",
    "    Eliminar tokens que:\n",
    "    - Estén dentro de lista_de_paro.\n",
    "    - Sean ligas.\n",
    "    - Si es una mención i.e @potus, se cambia por token genérico @usuario.\n",
    "    \"\"\"\n",
    "    return [i if i.startswith(('@')) else stmmr.stemWord(i) for i in tmp_tweet \n",
    "            if i not in spec_chars \n",
    "            and not i.startswith(('http', 'htt'))]\n",
    "\n",
    "     "
   ]
  },
  {
   "cell_type": "code",
   "execution_count": 14,
   "metadata": {
    "collapsed": false,
    "deletable": true,
    "editable": true
   },
   "outputs": [],
   "source": [
    "nuevos_tweets = set()\n",
    "for i in tweets.find():\n",
    "    if \"retweeted_status\" in i:           # Si es retweet...\n",
    "        tmp = tknzr.tokenize(i[\"retweeted_status\"]['text'])\n",
    "        tmp1 = clean_tweet(tmp)\n",
    "        nuevos_tweets,add(' '.join(tmp1))\n",
    "\n",
    "    else:                                # Si no es retweet...\n",
    "        tmp = tknzr.tokenize(i['text'])\n",
    "        tmp = clean_tweet(tmp)\n",
    "        nuevos_tweets.add(' '.join(tmp))\n"
   ]
  },
  {
   "cell_type": "code",
   "execution_count": 15,
   "metadata": {
    "collapsed": false,
    "deletable": true,
    "editable": true
   },
   "outputs": [],
   "source": [
    "df = pd.DataFrame()"
   ]
  },
  {
   "cell_type": "code",
   "execution_count": 16,
   "metadata": {
    "collapsed": true,
    "deletable": true,
    "editable": true
   },
   "outputs": [],
   "source": [
    "df[\"tweet\"] = list(nuevos_tweets)"
   ]
  },
  {
   "cell_type": "code",
   "execution_count": 17,
   "metadata": {
    "collapsed": false,
    "deletable": true,
    "editable": true
   },
   "outputs": [
    {
     "data": {
      "text/html": [
       "<div>\n",
       "<table border=\"1\" class=\"dataframe\">\n",
       "  <thead>\n",
       "    <tr style=\"text-align: right;\">\n",
       "      <th></th>\n",
       "      <th>tweet</th>\n",
       "    </tr>\n",
       "  </thead>\n",
       "  <tbody>\n",
       "    <tr>\n",
       "      <th>0</th>\n",
       "      <td>@chavarriaobras que tal buen dias podr ven a r...</td>\n",
       "    </tr>\n",
       "    <tr>\n",
       "      <th>1</th>\n",
       "      <td>conclu la jorn de acopi del dia de hoy lastim ...</td>\n",
       "    </tr>\n",
       "    <tr>\n",
       "      <th>2</th>\n",
       "      <td>centr de acopi en 20 de agost #50 coyoacan a u...</td>\n",
       "    </tr>\n",
       "    <tr>\n",
       "      <th>3</th>\n",
       "      <td>en el centr de acopi #cinemacoyoac necesit lec...</td>\n",
       "    </tr>\n",
       "    <tr>\n",
       "      <th>4</th>\n",
       "      <td>⒈ #sism ⒉ #prayformex ⒊ xochimilc ⒋ condes ⒌ #...</td>\n",
       "    </tr>\n",
       "    <tr>\n",
       "      <th>5</th>\n",
       "      <td>#sntesolidari el president nacional del #snte ...</td>\n",
       "    </tr>\n",
       "    <tr>\n",
       "      <th>6</th>\n",
       "      <td>ese horribl sentimient de vaci impotent y carg...</td>\n",
       "    </tr>\n",
       "    <tr>\n",
       "      <th>7</th>\n",
       "      <td>@chuckpee exact ahorit es moment de dej de per...</td>\n",
       "    </tr>\n",
       "    <tr>\n",
       "      <th>8</th>\n",
       "      <td>@edelamadrid ayud amig con vid atrap coquimb 9...</td>\n",
       "    </tr>\n",
       "    <tr>\n",
       "      <th>9</th>\n",
       "      <td>@ayudasismo2017 sab dond necesit un doctor fav...</td>\n",
       "    </tr>\n",
       "    <tr>\n",
       "      <th>10</th>\n",
       "      <td>#mexicoun 🇲 🇽 ✨ ❤ ️ ️ hoy tod la ayud @bobopro...</td>\n",
       "    </tr>\n",
       "    <tr>\n",
       "      <th>11</th>\n",
       "      <td>tod los que pued ayud ayud #prayersformex #fue...</td>\n",
       "    </tr>\n",
       "    <tr>\n",
       "      <th>12</th>\n",
       "      <td>unamon en oracion junt pod #prayformex #sism #...</td>\n",
       "    </tr>\n",
       "    <tr>\n",
       "      <th>13</th>\n",
       "      <td>@alejandrofranco alberg vaci en cum con com y agu</td>\n",
       "    </tr>\n",
       "    <tr>\n",
       "      <th>14</th>\n",
       "      <td>centr de acopi en las afuer del estadi aztec</td>\n",
       "    </tr>\n",
       "    <tr>\n",
       "      <th>15</th>\n",
       "      <td>@denisemaerker ayud par encontr a mi tio efren...</td>\n",
       "    </tr>\n",
       "    <tr>\n",
       "      <th>16</th>\n",
       "      <td>si sab de algun alberg pued llev com zon sur d...</td>\n",
       "    </tr>\n",
       "    <tr>\n",
       "      <th>17</th>\n",
       "      <td>deb ine don los casi 7,000 millon de part a vi...</td>\n",
       "    </tr>\n",
       "    <tr>\n",
       "      <th>18</th>\n",
       "      <td>mañan estar reun de nuev par segu ayud y agili...</td>\n",
       "    </tr>\n",
       "    <tr>\n",
       "      <th>19</th>\n",
       "      <td>@yomapita si nen yo estuv en la rom y chimalpo...</td>\n",
       "    </tr>\n",
       "    <tr>\n",
       "      <th>20</th>\n",
       "      <td>@brozoxmiswebs hay pais com #israel que trasce...</td>\n",
       "    </tr>\n",
       "    <tr>\n",
       "      <th>21</th>\n",
       "      <td>dєѕolαcιoи ped por las famili que estan sufr y...</td>\n",
       "    </tr>\n",
       "    <tr>\n",
       "      <th>22</th>\n",
       "      <td>@dfb_team_es ser maravill que nos ayud con un ...</td>\n",
       "    </tr>\n",
       "    <tr>\n",
       "      <th>23</th>\n",
       "      <td>union solidar esper fe fuerz amor apoy gener a...</td>\n",
       "    </tr>\n",
       "    <tr>\n",
       "      <th>24</th>\n",
       "      <td>@revistamoi porfavor com medi de comun verifiq...</td>\n",
       "    </tr>\n",
       "    <tr>\n",
       "      <th>25</th>\n",
       "      <td>no hay agu en play hermos entre play roquet y ...</td>\n",
       "    </tr>\n",
       "    <tr>\n",
       "      <th>26</th>\n",
       "      <td>algui sab de un centr de acopi en tex que sea ...</td>\n",
       "    </tr>\n",
       "    <tr>\n",
       "      <th>27</th>\n",
       "      <td>sum ya 94 muert por #sism en distint estad de ...</td>\n",
       "    </tr>\n",
       "    <tr>\n",
       "      <th>28</th>\n",
       "      <td>proteccion civil cdmx inform que deb al sism s...</td>\n",
       "    </tr>\n",
       "    <tr>\n",
       "      <th>29</th>\n",
       "      <td>ayud a morel por favor</td>\n",
       "    </tr>\n",
       "    <tr>\n",
       "      <th>...</th>\n",
       "      <td>...</td>\n",
       "    </tr>\n",
       "    <tr>\n",
       "      <th>70</th>\n",
       "      <td>#sism cfe report mas de 3 millon de person sin...</td>\n",
       "    </tr>\n",
       "    <tr>\n",
       "      <th>71</th>\n",
       "      <td>ya son 248 los muert y se esper mas #sism</td>\n",
       "    </tr>\n",
       "    <tr>\n",
       "      <th>72</th>\n",
       "      <td>21.09 17:33 acopi par multifamiliar de tlalp n...</td>\n",
       "    </tr>\n",
       "    <tr>\n",
       "      <th>73</th>\n",
       "      <td>retien camion de ayud en morel</td>\n",
       "    </tr>\n",
       "    <tr>\n",
       "      <th>74</th>\n",
       "      <td>a las 3:00 pm se realiz una colect en las afue...</td>\n",
       "    </tr>\n",
       "    <tr>\n",
       "      <th>75</th>\n",
       "      <td>esper que el gobiern ahor si derrumb lo que di...</td>\n",
       "    </tr>\n",
       "    <tr>\n",
       "      <th>76</th>\n",
       "      <td>tantit madr los voluntari ten que ser sup orde...</td>\n",
       "    </tr>\n",
       "    <tr>\n",
       "      <th>77</th>\n",
       "      <td>@luzelenaglez continu su labor de ayud tras el...</td>\n",
       "    </tr>\n",
       "    <tr>\n",
       "      <th>78</th>\n",
       "      <td>inform verific y actualiz apoyemon par ayud ob...</td>\n",
       "    </tr>\n",
       "    <tr>\n",
       "      <th>79</th>\n",
       "      <td>@wallacebt @frankesminombre dond ocup mov vive...</td>\n",
       "    </tr>\n",
       "    <tr>\n",
       "      <th>80</th>\n",
       "      <td>se not la diferent reaccion de la gent con la ...</td>\n",
       "    </tr>\n",
       "    <tr>\n",
       "      <th>81</th>\n",
       "      <td>@ruzo genial yo teng que par porqu hoy me rein...</td>\n",
       "    </tr>\n",
       "    <tr>\n",
       "      <th>82</th>\n",
       "      <td>no hay dud que la gent respond y ayud hay exce...</td>\n",
       "    </tr>\n",
       "    <tr>\n",
       "      <th>83</th>\n",
       "      <td>#rt #fuerzamex</td>\n",
       "    </tr>\n",
       "    <tr>\n",
       "      <th>84</th>\n",
       "      <td>primari manuel gomez frent al oxxo de tlatelol...</td>\n",
       "    </tr>\n",
       "    <tr>\n",
       "      <th>85</th>\n",
       "      <td>#mexicoestadepi teng que reconoc en ningun mom...</td>\n",
       "    </tr>\n",
       "    <tr>\n",
       "      <th>86</th>\n",
       "      <td>@foro_tv @cfe_vallemex desd el dia del sism no...</td>\n",
       "    </tr>\n",
       "    <tr>\n",
       "      <th>87</th>\n",
       "      <td>@jdcuajimalpa @ani_puente perfect lleg con alg...</td>\n",
       "    </tr>\n",
       "    <tr>\n",
       "      <th>88</th>\n",
       "      <td>favor de compart la list de person hospitaliz ...</td>\n",
       "    </tr>\n",
       "    <tr>\n",
       "      <th>89</th>\n",
       "      <td>la reconstruccion tambien es apoy es reactiv p...</td>\n",
       "    </tr>\n",
       "    <tr>\n",
       "      <th>90</th>\n",
       "      <td>volv a tembl son la alarm sismic</td>\n",
       "    </tr>\n",
       "    <tr>\n",
       "      <th>91</th>\n",
       "      <td>van a ir a una.comun que no tien viver apoy @j...</td>\n",
       "    </tr>\n",
       "    <tr>\n",
       "      <th>92</th>\n",
       "      <td>@esmegii nos echas una manit quer ayud per no ...</td>\n",
       "    </tr>\n",
       "    <tr>\n",
       "      <th>93</th>\n",
       "      <td>ya se contact sol quer compart #queogulloserme...</td>\n",
       "    </tr>\n",
       "    <tr>\n",
       "      <th>94</th>\n",
       "      <td>morel todav nos necesit los que no estan marc ...</td>\n",
       "    </tr>\n",
       "    <tr>\n",
       "      <th>95</th>\n",
       "      <td>@denisemaerker @foro_tv dej de perd el tiemp j...</td>\n",
       "    </tr>\n",
       "    <tr>\n",
       "      <th>96</th>\n",
       "      <td>he estad en el derrumb de #balsas19 hay much i...</td>\n",
       "    </tr>\n",
       "    <tr>\n",
       "      <th>97</th>\n",
       "      <td>#sism #temblor #terremot #ayud @ distrit feder...</td>\n",
       "    </tr>\n",
       "    <tr>\n",
       "      <th>98</th>\n",
       "      <td>el silenci de pront se vuelv en salvador de vi...</td>\n",
       "    </tr>\n",
       "    <tr>\n",
       "      <th>99</th>\n",
       "      <td>@sherylrubior28 dond te encontr cuand suced el...</td>\n",
       "    </tr>\n",
       "  </tbody>\n",
       "</table>\n",
       "<p>100 rows × 1 columns</p>\n",
       "</div>"
      ],
      "text/plain": [
       "                                                tweet\n",
       "0   @chavarriaobras que tal buen dias podr ven a r...\n",
       "1   conclu la jorn de acopi del dia de hoy lastim ...\n",
       "2   centr de acopi en 20 de agost #50 coyoacan a u...\n",
       "3   en el centr de acopi #cinemacoyoac necesit lec...\n",
       "4   ⒈ #sism ⒉ #prayformex ⒊ xochimilc ⒋ condes ⒌ #...\n",
       "5   #sntesolidari el president nacional del #snte ...\n",
       "6   ese horribl sentimient de vaci impotent y carg...\n",
       "7   @chuckpee exact ahorit es moment de dej de per...\n",
       "8   @edelamadrid ayud amig con vid atrap coquimb 9...\n",
       "9   @ayudasismo2017 sab dond necesit un doctor fav...\n",
       "10  #mexicoun 🇲 🇽 ✨ ❤ ️ ️ hoy tod la ayud @bobopro...\n",
       "11  tod los que pued ayud ayud #prayersformex #fue...\n",
       "12  unamon en oracion junt pod #prayformex #sism #...\n",
       "13  @alejandrofranco alberg vaci en cum con com y agu\n",
       "14       centr de acopi en las afuer del estadi aztec\n",
       "15  @denisemaerker ayud par encontr a mi tio efren...\n",
       "16  si sab de algun alberg pued llev com zon sur d...\n",
       "17  deb ine don los casi 7,000 millon de part a vi...\n",
       "18  mañan estar reun de nuev par segu ayud y agili...\n",
       "19  @yomapita si nen yo estuv en la rom y chimalpo...\n",
       "20  @brozoxmiswebs hay pais com #israel que trasce...\n",
       "21  dєѕolαcιoи ped por las famili que estan sufr y...\n",
       "22  @dfb_team_es ser maravill que nos ayud con un ...\n",
       "23  union solidar esper fe fuerz amor apoy gener a...\n",
       "24  @revistamoi porfavor com medi de comun verifiq...\n",
       "25  no hay agu en play hermos entre play roquet y ...\n",
       "26  algui sab de un centr de acopi en tex que sea ...\n",
       "27  sum ya 94 muert por #sism en distint estad de ...\n",
       "28  proteccion civil cdmx inform que deb al sism s...\n",
       "29                             ayud a morel por favor\n",
       "..                                                ...\n",
       "70  #sism cfe report mas de 3 millon de person sin...\n",
       "71          ya son 248 los muert y se esper mas #sism\n",
       "72  21.09 17:33 acopi par multifamiliar de tlalp n...\n",
       "73                     retien camion de ayud en morel\n",
       "74  a las 3:00 pm se realiz una colect en las afue...\n",
       "75  esper que el gobiern ahor si derrumb lo que di...\n",
       "76  tantit madr los voluntari ten que ser sup orde...\n",
       "77  @luzelenaglez continu su labor de ayud tras el...\n",
       "78  inform verific y actualiz apoyemon par ayud ob...\n",
       "79  @wallacebt @frankesminombre dond ocup mov vive...\n",
       "80  se not la diferent reaccion de la gent con la ...\n",
       "81  @ruzo genial yo teng que par porqu hoy me rein...\n",
       "82  no hay dud que la gent respond y ayud hay exce...\n",
       "83                                     #rt #fuerzamex\n",
       "84  primari manuel gomez frent al oxxo de tlatelol...\n",
       "85  #mexicoestadepi teng que reconoc en ningun mom...\n",
       "86  @foro_tv @cfe_vallemex desd el dia del sism no...\n",
       "87  @jdcuajimalpa @ani_puente perfect lleg con alg...\n",
       "88  favor de compart la list de person hospitaliz ...\n",
       "89  la reconstruccion tambien es apoy es reactiv p...\n",
       "90                   volv a tembl son la alarm sismic\n",
       "91  van a ir a una.comun que no tien viver apoy @j...\n",
       "92  @esmegii nos echas una manit quer ayud per no ...\n",
       "93  ya se contact sol quer compart #queogulloserme...\n",
       "94  morel todav nos necesit los que no estan marc ...\n",
       "95  @denisemaerker @foro_tv dej de perd el tiemp j...\n",
       "96  he estad en el derrumb de #balsas19 hay much i...\n",
       "97  #sism #temblor #terremot #ayud @ distrit feder...\n",
       "98  el silenci de pront se vuelv en salvador de vi...\n",
       "99  @sherylrubior28 dond te encontr cuand suced el...\n",
       "\n",
       "[100 rows x 1 columns]"
      ]
     },
     "execution_count": 17,
     "metadata": {},
     "output_type": "execute_result"
    }
   ],
   "source": [
    "df.head(100)"
   ]
  },
  {
   "cell_type": "code",
   "execution_count": null,
   "metadata": {
    "collapsed": false,
    "deletable": true,
    "editable": true
   },
   "outputs": [],
   "source": [
    "lda = LdaModel(list(nuevos_tweets),num_topics=50)"
   ]
  },
  {
   "cell_type": "code",
   "execution_count": null,
   "metadata": {
    "collapsed": true,
    "deletable": true,
    "editable": true
   },
   "outputs": [],
   "source": []
  }
 ],
 "metadata": {
  "kernelspec": {
   "display_name": "Python 3",
   "language": "python",
   "name": "python3"
  },
  "language_info": {
   "codemirror_mode": {
    "name": "ipython",
    "version": 3
   },
   "file_extension": ".py",
   "mimetype": "text/x-python",
   "name": "python",
   "nbconvert_exporter": "python",
   "pygments_lexer": "ipython3",
   "version": "3.5.2+"
  }
 },
 "nbformat": 4,
 "nbformat_minor": 2
}
