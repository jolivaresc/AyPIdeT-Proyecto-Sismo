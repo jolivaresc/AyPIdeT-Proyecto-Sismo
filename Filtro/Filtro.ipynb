{
 "cells": [
  {
   "cell_type": "markdown",
   "metadata": {
    "deletable": true,
    "editable": true
   },
   "source": [
    "# Filtro de tweets\n",
    "\n",
    "* De la BD que contiene los tweets de septiembre 2017, se buscan sólo los que se encuentran entre las fechas del 19 al 26, de los tweets obtenidos se filtran por palabras clave para crear una nueva BD con tweets relevantes ocurridos dentro del periodo de interés y se guardan en un archivo los IDs de los tweets obtenidos. (INCOMPLETO)\n",
    "    \n",
    "    **NOTA**: El rango de fechas no lo obtiene correctamente, de momento sólo toma el del día 19-sept.\n",
    "\n",
    "\n",
    "* La nueva BD sirve para obtener las relaciones paradigmáticas de las palabras clave para hacer más completa la lista y poder extraer más resultados que pudieron haber sido omitidos una primera pasada del filtro. (FALTA)\n",
    "\n"
   ]
  },
  {
   "cell_type": "markdown",
   "metadata": {
    "deletable": true,
    "editable": true
   },
   "source": [
    "# Dependencies"
   ]
  },
  {
   "cell_type": "code",
   "execution_count": 1,
   "metadata": {
    "collapsed": true,
    "deletable": true,
    "editable": true
   },
   "outputs": [],
   "source": [
    "#!/usr/bin/env python\n",
    "# -*- coding: utf-8 -*-\n",
    "\n",
    "from pymongo import MongoClient\n",
    "from nltk.tokenize import TweetTokenizer "
   ]
  },
  {
   "cell_type": "markdown",
   "metadata": {
    "deletable": true,
    "editable": true
   },
   "source": [
    "# Conexión a MongoDB"
   ]
  },
  {
   "cell_type": "code",
   "execution_count": 2,
   "metadata": {
    "collapsed": false,
    "deletable": true,
    "editable": true
   },
   "outputs": [
    {
     "name": "stdout",
     "output_type": "stream",
     "text": [
      "Connected to MongoDB\n",
      "\n"
     ]
    }
   ],
   "source": [
    "try:\n",
    "    client = MongoClient()\n",
    "    print(\"Connected to MongoDB\\n\")\n",
    "except pymongo.errors.ConnectionFailure as e:\n",
    "    print(\"Could not connect to MongoDB\",e)"
   ]
  },
  {
   "cell_type": "markdown",
   "metadata": {
    "deletable": true,
    "editable": true
   },
   "source": [
    "# Seleccionar BD y colección\n",
    "BD de todo septiembre."
   ]
  },
  {
   "cell_type": "code",
   "execution_count": 3,
   "metadata": {
    "collapsed": false,
    "deletable": true,
    "editable": true
   },
   "outputs": [],
   "source": [
    "db = client.sept2017_db\n",
    "tweets = db.sept2017_collection"
   ]
  },
  {
   "cell_type": "markdown",
   "metadata": {
    "deletable": true,
    "editable": true
   },
   "source": [
    "# Nueva BD \n",
    "Se crea una nueva BD con tweets dentro del periodo del 19 al 26 de septiembre.\n"
   ]
  },
  {
   "cell_type": "code",
   "execution_count": 4,
   "metadata": {
    "collapsed": true,
    "deletable": true,
    "editable": true
   },
   "outputs": [],
   "source": [
    "db_new = client.sept19_26_db\n",
    "tweets_new = db_new.sept19_26_collection"
   ]
  },
  {
   "cell_type": "markdown",
   "metadata": {
    "deletable": true,
    "editable": true
   },
   "source": [
    "# Consultar BD\n",
    "Buscar tweets dentro de un rango de fechas en BD."
   ]
  },
  {
   "cell_type": "code",
   "execution_count": 5,
   "metadata": {
    "collapsed": true,
    "deletable": true,
    "editable": true
   },
   "outputs": [],
   "source": [
    "query = {\n",
    "            'created_at' :\n",
    "            {\n",
    "                \"$gte\":\"Tue Sep 19 00:00:00 +0000 2017\",\n",
    "                \"$lte\":\"Tue Sep 26 00:00:00 +0000 2017\"\n",
    "            }\n",
    "        }"
   ]
  },
  {
   "cell_type": "markdown",
   "metadata": {
    "deletable": true,
    "editable": true
   },
   "source": [
    "# Lista para filtro de palabras clave y tokenización de tweets\n",
    "* `filtro`: Lista para buscar palabras clave dentro del tweet\n",
    "* `ids`: set para guardar los tweets por id que contengan palabras clave para después hacer consulta a la BD por medio de su ID\n",
    "* `tknzr`: Tokenizador de tweets"
   ]
  },
  {
   "cell_type": "code",
   "execution_count": 6,
   "metadata": {
    "collapsed": true,
    "deletable": true,
    "editable": true
   },
   "outputs": [],
   "source": [
    "filtro = [\"sismo\", \"albergue\", \"acopio\", \"víveres\", \"viveres\", \"alerta\", \"sísmica\",\n",
    "          \"sismica\", \"ayuda\", \"#Verificado19S\",\"19s\",\"derrumbe\",\"colecta\",\"#fuerzamexico\",\n",
    "          \"#fuerzaméxico\"]\n",
    "\n",
    "IDs = set()\n",
    "\n",
    "tknzr = TweetTokenizer(preserve_case=False,       # Convertir a minúsculas\n",
    "                       reduce_len=True,           # Reducir caracteres repetidos\n",
    "                       strip_handles=False)       # Mostrar @usuarios"
   ]
  },
  {
   "cell_type": "markdown",
   "metadata": {
    "deletable": true,
    "editable": true
   },
   "source": [
    "# Se obtienen tweets relevantes"
   ]
  },
  {
   "cell_type": "code",
   "execution_count": 7,
   "metadata": {
    "collapsed": false,
    "deletable": true,
    "editable": true
   },
   "outputs": [],
   "source": [
    "for i in tweets.find({\n",
    "                        'created_at' :\n",
    "                        {\n",
    "                            \"$gt\":\"Tue Sep 19 00:00:00 +0000 2017\",\n",
    "                            \"$lt\":\"Tue Sep 26 00:00:00 +0000 2017\"\n",
    "                        }\n",
    "                    }):\n",
    "    if \"retweeted_status\" in i:\n",
    "        tmp = tknzr.tokenize(i['text'])\n",
    "        for key in filtro:\n",
    "            if key in tmp:\n",
    "                #print(i[\"created_at\"])\n",
    "                #IDs.add(i[\"_id\"])\n",
    "                try:\n",
    "                    insertar = tweets_new.insert_one(i)\n",
    "                except Exception as e:\n",
    "                    #print(\"Error:\",e)\n",
    "                    pass\n",
    "\n",
    "    else:\n",
    "        tmp = tknzr.tokenize(i['text'])\n",
    "        for key in filtro:\n",
    "            if key in tmp:\n",
    "                #print(i[\"created_at\"])\n",
    "                #IDs.add(i[\"_id\"])\n",
    "                try:\n",
    "                    insertar = tweets_new.insert_one(i)\n",
    "                except Exception as e:\n",
    "                    #print(\"Error:\",e)\n",
    "                    pass\n"
   ]
  },
  {
   "cell_type": "markdown",
   "metadata": {
    "deletable": true,
    "editable": true
   },
   "source": [
    "# Escribir IDs en archivo"
   ]
  },
  {
   "cell_type": "code",
   "execution_count": null,
   "metadata": {
    "collapsed": false,
    "deletable": true,
    "editable": true
   },
   "outputs": [],
   "source": [
    "if True:\n",
    "    IDs_file = open('IDs.dat', 'w')\n",
    "    for item in IDs:\n",
    "        IDs_file.write(str(item)+\"\\n\")\n",
    "    IDs_file.close()"
   ]
  },
  {
   "cell_type": "code",
   "execution_count": null,
   "metadata": {
    "collapsed": true,
    "deletable": true,
    "editable": true
   },
   "outputs": [],
   "source": []
  }
 ],
 "metadata": {
  "kernelspec": {
   "display_name": "Python 3",
   "language": "python",
   "name": "python3"
  },
  "language_info": {
   "codemirror_mode": {
    "name": "ipython",
    "version": 3
   },
   "file_extension": ".py",
   "mimetype": "text/x-python",
   "name": "python",
   "nbconvert_exporter": "python",
   "pygments_lexer": "ipython3",
   "version": "3.5.2+"
  }
 },
 "nbformat": 4,
 "nbformat_minor": 2
}
