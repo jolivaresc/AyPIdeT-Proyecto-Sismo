{
 "cells": [
  {
   "cell_type": "markdown",
   "metadata": {},
   "source": [
    "# Dependencies"
   ]
  },
  {
   "cell_type": "code",
   "execution_count": 45,
   "metadata": {
    "collapsed": true
   },
   "outputs": [],
   "source": [
    "#!/usr/bin/env python\n",
    "# -*- coding: utf-8 -*-\n",
    "\n",
    "import json\n",
    "from pymongo import MongoClient\n",
    "from nltk.tokenize import TweetTokenizer, word_tokenize\n",
    "#from keras.preprocessing.text import text_to_word_sequence"
   ]
  },
  {
   "cell_type": "markdown",
   "metadata": {},
   "source": [
    "# Conexión a DB"
   ]
  },
  {
   "cell_type": "code",
   "execution_count": 46,
   "metadata": {
    "collapsed": false
   },
   "outputs": [
    {
     "name": "stdout",
     "output_type": "stream",
     "text": [
      "Connected to MongoDB\n",
      "\n"
     ]
    }
   ],
   "source": [
    "try:\n",
    "\tclient = MongoClient()\n",
    "\tprint(\"Connected to MongoDB\\n\")\n",
    "except pymongo.errors.ConnectionFailure as e:\n",
    "\tprint(\"Could not connect to MongoDB\",e)"
   ]
  },
  {
   "cell_type": "markdown",
   "metadata": {},
   "source": [
    "# Seleccionar BD y colección"
   ]
  },
  {
   "cell_type": "code",
   "execution_count": 50,
   "metadata": {
    "collapsed": true
   },
   "outputs": [],
   "source": [
    "db = client.sept2017_db\n",
    "tweets = db.sept2017_collection"
   ]
  },
  {
   "cell_type": "markdown",
   "metadata": {},
   "source": [
    "# Lista para filtro y tokenización\n",
    "* `filtro`: Lista para buscar palabras clave dentro del tweet\n",
    "* `ids`: set para guardar los tweets por id que contengan palabras clave para después hacer consulta a la BD por medio de su ID\n",
    "* `tknzr`: Tokenizador de tweets"
   ]
  },
  {
   "cell_type": "code",
   "execution_count": 51,
   "metadata": {
    "collapsed": true
   },
   "outputs": [],
   "source": [
    "filtro = [\"sismo\", \"albergue\", \"acopio\", \"víveres\", \"viveres\", \"alerta\", \"sísmica\",\n",
    "          \"sismica\", \"ayuda\", \"#Verificado19S\",\"19s\",\"mujer\",\"telcel\"]\n",
    "ids = set()\n",
    "tknzr = TweetTokenizer(preserve_case=False,       # Convertir a minúsculas\n",
    "                       reduce_len=True,           # Reducir caracteres repetidos\n",
    "                       strip_handles=False)       # Mostrar @usuarios"
   ]
  },
  {
   "cell_type": "code",
   "execution_count": 52,
   "metadata": {
    "collapsed": false
   },
   "outputs": [],
   "source": [
    "for i in tweets.find():\n",
    "    if \"retweeted_status\" in i:\n",
    "        tmp = tknzr.tokenize(i[\"retweeted_status\"]['text'])\n",
    "        for key in filtro:\n",
    "            if key in tmp:\n",
    "                #print(i[\"_id\"],tmp)\n",
    "                ids.add(i[\"_id\"])\n",
    "    else:\n",
    "        tmp = tknzr.tokenize(i['text'])\n",
    "        for key in filtro:\n",
    "            if key in tmp:\n",
    "                #print(i[\"_id\"],tmp)\n",
    "                ids.add(i[\"_id\"])"
   ]
  },
  {
   "cell_type": "markdown",
   "metadata": {},
   "source": [
    "# Escribir IDs en archivo"
   ]
  },
  {
   "cell_type": "code",
   "execution_count": 44,
   "metadata": {
    "collapsed": false
   },
   "outputs": [],
   "source": [
    "ids_file = open('ids.dat', 'w')\n",
    "for item in ids:\n",
    "    ids_file.write(str(item)+\"\\n\")\n",
    "ids_file.close()"
   ]
  },
  {
   "cell_type": "code",
   "execution_count": null,
   "metadata": {
    "collapsed": true
   },
   "outputs": [],
   "source": []
  }
 ],
 "metadata": {
  "kernelspec": {
   "display_name": "Python 3",
   "language": "python",
   "name": "python3"
  },
  "language_info": {
   "codemirror_mode": {
    "name": "ipython",
    "version": 3
   },
   "file_extension": ".py",
   "mimetype": "text/x-python",
   "name": "python",
   "nbconvert_exporter": "python",
   "pygments_lexer": "ipython3",
   "version": "3.5.2+"
  }
 },
 "nbformat": 4,
 "nbformat_minor": 2
}
