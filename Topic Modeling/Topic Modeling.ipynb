{
 "cells": [
  {
   "cell_type": "code",
   "execution_count": 1,
   "metadata": {
    "collapsed": true,
    "deletable": true,
    "editable": true
   },
   "outputs": [],
   "source": [
    "#!/usr/bin/env python\n",
    "# -*- coding: utf-8 -*-\n",
    "\n",
    "from pymongo import MongoClient\n",
    "from nltk.tokenize import TweetTokenizer\n",
    "\n",
    "import gensim\n",
    "import pandas as pd\n",
    "from gensim.models.ldamodel import LdaModel\n",
    "from gensim import corpora, models\n",
    "from stop_words import get_stop_words\n",
    "import snowballstemmer"
   ]
  },
  {
   "cell_type": "code",
   "execution_count": 2,
   "metadata": {
    "collapsed": false,
    "deletable": true,
    "editable": true
   },
   "outputs": [
    {
     "name": "stdout",
     "output_type": "stream",
     "text": [
      "Connected to MongoDB\n",
      "\n"
     ]
    }
   ],
   "source": [
    "try:\n",
    "    client = MongoClient()\n",
    "    print(\"Connected to MongoDB\\n\")\n",
    "except pymongo.errors.ConnectionFailure as e:\n",
    "    print(\"Could not connect to MongoDB\",e)"
   ]
  },
  {
   "cell_type": "code",
   "execution_count": 3,
   "metadata": {
    "collapsed": false,
    "deletable": true,
    "editable": true
   },
   "outputs": [],
   "source": [
    "db = client.sept19_26_keywords_db\n",
    "tweets = db.sept19_26_keywords_collection"
   ]
  },
  {
   "cell_type": "code",
   "execution_count": 4,
   "metadata": {
    "collapsed": false,
    "deletable": true,
    "editable": true
   },
   "outputs": [
    {
     "data": {
      "text/plain": [
       "40665"
      ]
     },
     "execution_count": 4,
     "metadata": {},
     "output_type": "execute_result"
    }
   ],
   "source": [
    "tweets.find().count()"
   ]
  },
  {
   "cell_type": "markdown",
   "metadata": {},
   "source": [
    "# Tokenizer for Tweets"
   ]
  },
  {
   "cell_type": "code",
   "execution_count": 5,
   "metadata": {
    "collapsed": true,
    "deletable": true,
    "editable": true
   },
   "outputs": [],
   "source": [
    "tknzr = TweetTokenizer(preserve_case=False,       # Convertir a minúsculas\n",
    "                       reduce_len=True,           # Reducir caracteres repetidos\n",
    "                       strip_handles=False)       # Mostrar @usuarios"
   ]
  },
  {
   "cell_type": "markdown",
   "metadata": {},
   "source": [
    "# Create Stemmer of class Snowball"
   ]
  },
  {
   "cell_type": "code",
   "execution_count": 6,
   "metadata": {
    "collapsed": true
   },
   "outputs": [],
   "source": [
    "stmmr = snowballstemmer.stemmer('Spanish')"
   ]
  },
  {
   "cell_type": "markdown",
   "metadata": {},
   "source": [
    "# Stopword"
   ]
  },
  {
   "cell_type": "code",
   "execution_count": 7,
   "metadata": {
    "collapsed": false,
    "deletable": true,
    "editable": true
   },
   "outputs": [],
   "source": [
    "spec_chars = [\"…\",'\"',\"“\",\"/\",\"(\",\")\",\"[\",\"]\",\"?\",\"¿\",\"!\",\"¡\",\n",
    "                 \"rt\",\":\",\"…\",\",\",\"\\n\",\"#\",\"\\t\",\"\",\".\",\"$\",\n",
    "                 \"...\",\"-\",\"🤢\"]\n",
    "\n",
    "# create English stop words list\n",
    "en_stop = get_stop_words('es')"
   ]
  },
  {
   "cell_type": "code",
   "execution_count": 8,
   "metadata": {
    "collapsed": true,
    "deletable": true,
    "editable": true
   },
   "outputs": [],
   "source": [
    "def clean_tweet(tmp_tweet):\n",
    "    \"\"\"\n",
    "    Eliminar tokens que:\n",
    "    - Estén dentro de lista_de_paro.\n",
    "    - Sean ligas.\n",
    "    - Si es una mención i.e @potus, se cambia por token genérico @usuario.\n",
    "    \"\"\"\n",
    "    return [_ for _ in tmp_tweet \n",
    "            if _ not in spec_chars \n",
    "            and not _.startswith(('http', 'htt'))]"
   ]
  },
  {
   "cell_type": "code",
   "execution_count": 9,
   "metadata": {
    "collapsed": false,
    "deletable": true,
    "editable": true
   },
   "outputs": [],
   "source": [
    "nuevos_tweets = []\n",
    "for i in tweets.find():\n",
    "    if \"retweeted_status\" in i:           # Si es retweet...\n",
    "        tokens = tknzr.tokenize(i[\"retweeted_status\"]['text'])\n",
    "        stopped_tokens = [i for i in tokens\n",
    "                         if not i in en_stop]\n",
    "        stemmed_tokens = clean_tweet(stopped_tokens)\n",
    "        nuevos_tweets.append(stemmed_tokens)\n",
    "\n",
    "    else:                                # Si no es retweet...\n",
    "        tokens = tknzr.tokenize(i['text'])\n",
    "        stopped_tokens = [i for i in tokens\n",
    "                         if not i in en_stop]\n",
    "        stemmed_tokens = clean_tweet(stopped_tokens)\n",
    "        nuevos_tweets.append(stemmed_tokens)\n"
   ]
  },
  {
   "cell_type": "code",
   "execution_count": 10,
   "metadata": {
    "collapsed": false,
    "deletable": true,
    "editable": true
   },
   "outputs": [],
   "source": [
    "df = pd.DataFrame()"
   ]
  },
  {
   "cell_type": "code",
   "execution_count": 11,
   "metadata": {
    "collapsed": true,
    "deletable": true,
    "editable": true
   },
   "outputs": [],
   "source": [
    "df[\"tweet\"] = nuevos_tweets"
   ]
  },
  {
   "cell_type": "code",
   "execution_count": 12,
   "metadata": {
    "collapsed": false,
    "deletable": true,
    "editable": true
   },
   "outputs": [
    {
     "data": {
      "text/html": [
       "<div>\n",
       "<table border=\"1\" class=\"dataframe\">\n",
       "  <thead>\n",
       "    <tr style=\"text-align: right;\">\n",
       "      <th></th>\n",
       "      <th>tweet</th>\n",
       "    </tr>\n",
       "  </thead>\n",
       "  <tbody>\n",
       "    <tr>\n",
       "      <th>0</th>\n",
       "      <td>[sabe, hacer, caso, sismo, aquí, siguientes, r...</td>\n",
       "    </tr>\n",
       "    <tr>\n",
       "      <th>1</th>\n",
       "      <td>[@licalbarran, cada, ser, humano, ayuda, crece...</td>\n",
       "    </tr>\n",
       "    <tr>\n",
       "      <th>2</th>\n",
       "      <td>[bien, quieres, cerca, necesitas, ahora, olvid...</td>\n",
       "    </tr>\n",
       "    <tr>\n",
       "      <th>3</th>\n",
       "      <td>[mañana, llevará, cabo, #simulacrocdmx, 11:00,...</td>\n",
       "    </tr>\n",
       "    <tr>\n",
       "      <th>4</th>\n",
       "      <td>[suspende, activación, #alertasísmica, #simula...</td>\n",
       "    </tr>\n",
       "    <tr>\n",
       "      <th>5</th>\n",
       "      <td>[#yosoymara, cansada, tener, miedo, simple, he...</td>\n",
       "    </tr>\n",
       "    <tr>\n",
       "      <th>6</th>\n",
       "      <td>[centro, acopio, ayuda, damnificados, sismo, p...</td>\n",
       "    </tr>\n",
       "    <tr>\n",
       "      <th>7</th>\n",
       "      <td>[favor, acuérdense, mañana, simulacro, sismo, ...</td>\n",
       "    </tr>\n",
       "    <tr>\n",
       "      <th>8</th>\n",
       "      <td>[@andaestadiorg, centro, acopio, apoyar, pobla...</td>\n",
       "    </tr>\n",
       "    <tr>\n",
       "      <th>9</th>\n",
       "      <td>[#comunicado, suspende, activación, alerta, sí...</td>\n",
       "    </tr>\n",
       "    <tr>\n",
       "      <th>10</th>\n",
       "      <td>[📈, protección, civil, suspende, simulacro, si...</td>\n",
       "    </tr>\n",
       "    <tr>\n",
       "      <th>11</th>\n",
       "      <td>[sinaloa, envía, 200, tons, víveres, damnifica...</td>\n",
       "    </tr>\n",
       "    <tr>\n",
       "      <th>12</th>\n",
       "      <td>[buenas, noches, desilución, situación, ayuda,...</td>\n",
       "    </tr>\n",
       "    <tr>\n",
       "      <th>13</th>\n",
       "      <td>[buenas, noches, desilución, situación, ayuda,...</td>\n",
       "    </tr>\n",
       "    <tr>\n",
       "      <th>14</th>\n",
       "      <td>[personal, #sspcdmx, recibiendo, apoyo, damnif...</td>\n",
       "    </tr>\n",
       "    <tr>\n",
       "      <th>15</th>\n",
       "      <td>[personal, #sspcdmx, recibiendo, apoyo, damnif...</td>\n",
       "    </tr>\n",
       "    <tr>\n",
       "      <th>16</th>\n",
       "      <td>[mañana, llevará, cabo, #simulacrocdmx, 11:00,...</td>\n",
       "    </tr>\n",
       "    <tr>\n",
       "      <th>17</th>\n",
       "      <td>[hoy, llevará, cabo, #simulacrocdmx, 11:00, ho...</td>\n",
       "    </tr>\n",
       "    <tr>\n",
       "      <th>18</th>\n",
       "      <td>[🌪, ⛈, #godnews, ⛈, 🌪, #hurricanemaria, c5, de...</td>\n",
       "    </tr>\n",
       "    <tr>\n",
       "      <th>19</th>\n",
       "      <td>[salen, 3, tráileres, víveres, damnificados, z...</td>\n",
       "    </tr>\n",
       "    <tr>\n",
       "      <th>20</th>\n",
       "      <td>[#sspcdmx, cuenta, centro, acopio, ayuda, damn...</td>\n",
       "    </tr>\n",
       "    <tr>\n",
       "      <th>21</th>\n",
       "      <td>[sabe, hacer, caso, sismo, aquí, siguientes, r...</td>\n",
       "    </tr>\n",
       "    <tr>\n",
       "      <th>22</th>\n",
       "      <td>[ayuda, porfavor, @rinbosque, @polancolomas, @...</td>\n",
       "    </tr>\n",
       "    <tr>\n",
       "      <th>23</th>\n",
       "      <td>[centro, acopio, ayuda, damnificados, sismo, p...</td>\n",
       "    </tr>\n",
       "    <tr>\n",
       "      <th>24</th>\n",
       "      <td>[reactiva, calzada, rovirosa, apoyo, federal, ...</td>\n",
       "    </tr>\n",
       "    <tr>\n",
       "      <th>25</th>\n",
       "      <td>[hoy, llevará, cabo, #simulacrocdmx, 11:00, ho...</td>\n",
       "    </tr>\n",
       "    <tr>\n",
       "      <th>26</th>\n",
       "      <td>[personal, #sspcdmx, recibiendo, apoyo, damnif...</td>\n",
       "    </tr>\n",
       "    <tr>\n",
       "      <th>27</th>\n",
       "      <td>[día, hoy, 1985, ciudad, méxico, sufre, sismo,...</td>\n",
       "    </tr>\n",
       "    <tr>\n",
       "      <th>28</th>\n",
       "      <td>[#sspcdmx, cuenta, centro, acopio, ayuda, damn...</td>\n",
       "    </tr>\n",
       "    <tr>\n",
       "      <th>29</th>\n",
       "      <td>[sabe, hacer, caso, sismo, aquí, siguientes, r...</td>\n",
       "    </tr>\n",
       "    <tr>\n",
       "      <th>...</th>\n",
       "      <td>...</td>\n",
       "    </tr>\n",
       "    <tr>\n",
       "      <th>70</th>\n",
       "      <td>[abusados, hoy, simulacro, 11am, vayan, espant...</td>\n",
       "    </tr>\n",
       "    <tr>\n",
       "      <th>71</th>\n",
       "      <td>[precisamente, hoy, conmemorar, terremoto, 198...</td>\n",
       "    </tr>\n",
       "    <tr>\n",
       "      <th>72</th>\n",
       "      <td>[ceremonia, protección, civil, conmemoración, ...</td>\n",
       "    </tr>\n",
       "    <tr>\n",
       "      <th>73</th>\n",
       "      <td>[#nuestrasfirmas, dolor, baila, ;, escribe, @p...</td>\n",
       "    </tr>\n",
       "    <tr>\n",
       "      <th>74</th>\n",
       "      <td>[ahí, hablan, @epn, rayuela, @lajornada, poner...</td>\n",
       "    </tr>\n",
       "    <tr>\n",
       "      <th>75</th>\n",
       "      <td>[sabe, hacer, caso, sismo, aquí, siguientes, r...</td>\n",
       "    </tr>\n",
       "    <tr>\n",
       "      <th>76</th>\n",
       "      <td>[@cndh, insiste, activar, alerta, género, #pue...</td>\n",
       "    </tr>\n",
       "    <tr>\n",
       "      <th>77</th>\n",
       "      <td>[jueves, 1985, 7:19, hrs, registró, sismo, 8.1...</td>\n",
       "    </tr>\n",
       "    <tr>\n",
       "      <th>78</th>\n",
       "      <td>[@spccdmx, anuncia, #simulacrocdmx, 11:00, hrs...</td>\n",
       "    </tr>\n",
       "    <tr>\n",
       "      <th>79</th>\n",
       "      <td>[#sismo, 🚨, hoy, realizará, simulacro, 11, am,...</td>\n",
       "    </tr>\n",
       "    <tr>\n",
       "      <th>80</th>\n",
       "      <td>[11:00, am, simulacro, sismo, alarmas, estrese...</td>\n",
       "    </tr>\n",
       "    <tr>\n",
       "      <th>81</th>\n",
       "      <td>[#felizmartes, recordamos, hoy, 11:00, am, #si...</td>\n",
       "    </tr>\n",
       "    <tr>\n",
       "      <th>82</th>\n",
       "      <td>[@lexbacha, cierto, hoy, #jóvenes, conocieron,...</td>\n",
       "    </tr>\n",
       "    <tr>\n",
       "      <th>83</th>\n",
       "      <td>[@skyalertmx, aproximadamente, cuánto, tiempo,...</td>\n",
       "    </tr>\n",
       "    <tr>\n",
       "      <th>84</th>\n",
       "      <td>[saldo, oficial, #sismo, 7, septiembre, afecta...</td>\n",
       "    </tr>\n",
       "    <tr>\n",
       "      <th>85</th>\n",
       "      <td>[clase, ingeniería, sísmica, recordamos, ocurr...</td>\n",
       "    </tr>\n",
       "    <tr>\n",
       "      <th>86</th>\n",
       "      <td>[llevó, cabo, evento, conmemoración, xxxii, an...</td>\n",
       "    </tr>\n",
       "    <tr>\n",
       "      <th>87</th>\n",
       "      <td>[tras, cobertura, conmemoración, sismo, 85, de...</td>\n",
       "    </tr>\n",
       "    <tr>\n",
       "      <th>88</th>\n",
       "      <td>[jefe, gobierno, @manceramiguelmx, encabezó, i...</td>\n",
       "    </tr>\n",
       "    <tr>\n",
       "      <th>89</th>\n",
       "      <td>[centro, acopio, ayuda, damnificados, sismo, p...</td>\n",
       "    </tr>\n",
       "    <tr>\n",
       "      <th>90</th>\n",
       "      <td>[', terremoto, 1985, sismo, transformó, ciudad...</td>\n",
       "    </tr>\n",
       "    <tr>\n",
       "      <th>91</th>\n",
       "      <td>[📢, semana, #sismo, #tehucán, niños, toman, cl...</td>\n",
       "    </tr>\n",
       "    <tr>\n",
       "      <th>92</th>\n",
       "      <td>[recuerda, #nocorras, #nogrites, #noempujes, #...</td>\n",
       "    </tr>\n",
       "    <tr>\n",
       "      <th>93</th>\n",
       "      <td>[20, voluntarios, 18, ambulancias, participaro...</td>\n",
       "    </tr>\n",
       "    <tr>\n",
       "      <th>94</th>\n",
       "      <td>[#nosevayaaespantar, recuerde, 11, am, realiza...</td>\n",
       "    </tr>\n",
       "    <tr>\n",
       "      <th>95</th>\n",
       "      <td>[hoy, llevará, cabo, #simulacrocdmx, 11:00, ho...</td>\n",
       "    </tr>\n",
       "    <tr>\n",
       "      <th>96</th>\n",
       "      <td>[#sismo, #19deseptiembre, 1985, puso, evidenci...</td>\n",
       "    </tr>\n",
       "    <tr>\n",
       "      <th>97</th>\n",
       "      <td>[@seclancaster, uso, tablas, gráficas, powerpo...</td>\n",
       "    </tr>\n",
       "    <tr>\n",
       "      <th>98</th>\n",
       "      <td>[@manceramiguelmx, @c5_cdmx, @gobcdmx, @ssp_cd...</td>\n",
       "    </tr>\n",
       "    <tr>\n",
       "      <th>99</th>\n",
       "      <td>[recuerda, hoy, 11:00, m, simulacro, conmemora...</td>\n",
       "    </tr>\n",
       "  </tbody>\n",
       "</table>\n",
       "<p>100 rows × 1 columns</p>\n",
       "</div>"
      ],
      "text/plain": [
       "                                                tweet\n",
       "0   [sabe, hacer, caso, sismo, aquí, siguientes, r...\n",
       "1   [@licalbarran, cada, ser, humano, ayuda, crece...\n",
       "2   [bien, quieres, cerca, necesitas, ahora, olvid...\n",
       "3   [mañana, llevará, cabo, #simulacrocdmx, 11:00,...\n",
       "4   [suspende, activación, #alertasísmica, #simula...\n",
       "5   [#yosoymara, cansada, tener, miedo, simple, he...\n",
       "6   [centro, acopio, ayuda, damnificados, sismo, p...\n",
       "7   [favor, acuérdense, mañana, simulacro, sismo, ...\n",
       "8   [@andaestadiorg, centro, acopio, apoyar, pobla...\n",
       "9   [#comunicado, suspende, activación, alerta, sí...\n",
       "10  [📈, protección, civil, suspende, simulacro, si...\n",
       "11  [sinaloa, envía, 200, tons, víveres, damnifica...\n",
       "12  [buenas, noches, desilución, situación, ayuda,...\n",
       "13  [buenas, noches, desilución, situación, ayuda,...\n",
       "14  [personal, #sspcdmx, recibiendo, apoyo, damnif...\n",
       "15  [personal, #sspcdmx, recibiendo, apoyo, damnif...\n",
       "16  [mañana, llevará, cabo, #simulacrocdmx, 11:00,...\n",
       "17  [hoy, llevará, cabo, #simulacrocdmx, 11:00, ho...\n",
       "18  [🌪, ⛈, #godnews, ⛈, 🌪, #hurricanemaria, c5, de...\n",
       "19  [salen, 3, tráileres, víveres, damnificados, z...\n",
       "20  [#sspcdmx, cuenta, centro, acopio, ayuda, damn...\n",
       "21  [sabe, hacer, caso, sismo, aquí, siguientes, r...\n",
       "22  [ayuda, porfavor, @rinbosque, @polancolomas, @...\n",
       "23  [centro, acopio, ayuda, damnificados, sismo, p...\n",
       "24  [reactiva, calzada, rovirosa, apoyo, federal, ...\n",
       "25  [hoy, llevará, cabo, #simulacrocdmx, 11:00, ho...\n",
       "26  [personal, #sspcdmx, recibiendo, apoyo, damnif...\n",
       "27  [día, hoy, 1985, ciudad, méxico, sufre, sismo,...\n",
       "28  [#sspcdmx, cuenta, centro, acopio, ayuda, damn...\n",
       "29  [sabe, hacer, caso, sismo, aquí, siguientes, r...\n",
       "..                                                ...\n",
       "70  [abusados, hoy, simulacro, 11am, vayan, espant...\n",
       "71  [precisamente, hoy, conmemorar, terremoto, 198...\n",
       "72  [ceremonia, protección, civil, conmemoración, ...\n",
       "73  [#nuestrasfirmas, dolor, baila, ;, escribe, @p...\n",
       "74  [ahí, hablan, @epn, rayuela, @lajornada, poner...\n",
       "75  [sabe, hacer, caso, sismo, aquí, siguientes, r...\n",
       "76  [@cndh, insiste, activar, alerta, género, #pue...\n",
       "77  [jueves, 1985, 7:19, hrs, registró, sismo, 8.1...\n",
       "78  [@spccdmx, anuncia, #simulacrocdmx, 11:00, hrs...\n",
       "79  [#sismo, 🚨, hoy, realizará, simulacro, 11, am,...\n",
       "80  [11:00, am, simulacro, sismo, alarmas, estrese...\n",
       "81  [#felizmartes, recordamos, hoy, 11:00, am, #si...\n",
       "82  [@lexbacha, cierto, hoy, #jóvenes, conocieron,...\n",
       "83  [@skyalertmx, aproximadamente, cuánto, tiempo,...\n",
       "84  [saldo, oficial, #sismo, 7, septiembre, afecta...\n",
       "85  [clase, ingeniería, sísmica, recordamos, ocurr...\n",
       "86  [llevó, cabo, evento, conmemoración, xxxii, an...\n",
       "87  [tras, cobertura, conmemoración, sismo, 85, de...\n",
       "88  [jefe, gobierno, @manceramiguelmx, encabezó, i...\n",
       "89  [centro, acopio, ayuda, damnificados, sismo, p...\n",
       "90  [', terremoto, 1985, sismo, transformó, ciudad...\n",
       "91  [📢, semana, #sismo, #tehucán, niños, toman, cl...\n",
       "92  [recuerda, #nocorras, #nogrites, #noempujes, #...\n",
       "93  [20, voluntarios, 18, ambulancias, participaro...\n",
       "94  [#nosevayaaespantar, recuerde, 11, am, realiza...\n",
       "95  [hoy, llevará, cabo, #simulacrocdmx, 11:00, ho...\n",
       "96  [#sismo, #19deseptiembre, 1985, puso, evidenci...\n",
       "97  [@seclancaster, uso, tablas, gráficas, powerpo...\n",
       "98  [@manceramiguelmx, @c5_cdmx, @gobcdmx, @ssp_cd...\n",
       "99  [recuerda, hoy, 11:00, m, simulacro, conmemora...\n",
       "\n",
       "[100 rows x 1 columns]"
      ]
     },
     "execution_count": 12,
     "metadata": {},
     "output_type": "execute_result"
    }
   ],
   "source": [
    "df.head(100)"
   ]
  },
  {
   "cell_type": "markdown",
   "metadata": {},
   "source": [
    "# turn our tokenized documents into a id <-> term dictionary"
   ]
  },
  {
   "cell_type": "code",
   "execution_count": 13,
   "metadata": {
    "collapsed": false,
    "deletable": true,
    "editable": true
   },
   "outputs": [],
   "source": [
    "dictionary = corpora.Dictionary(df[\"tweet\"])"
   ]
  },
  {
   "cell_type": "markdown",
   "metadata": {},
   "source": [
    "# convert tokenized documents into a document-term matrix"
   ]
  },
  {
   "cell_type": "code",
   "execution_count": 15,
   "metadata": {
    "collapsed": false,
    "deletable": true,
    "editable": true
   },
   "outputs": [],
   "source": [
    "corpus = [dictionary.doc2bow(text) for text in df[\"tweet\"]]"
   ]
  },
  {
   "cell_type": "markdown",
   "metadata": {},
   "source": [
    "# generate LDA model"
   ]
  },
  {
   "cell_type": "code",
   "execution_count": 16,
   "metadata": {
    "collapsed": true
   },
   "outputs": [],
   "source": [
    "ldamodel = LdaModel(corpus,\n",
    "                    num_topics = 20,\n",
    "                    id2word = dictionary,\n",
    "                    passes = 20,\n",
    "                    minimum_probability = 0.05)"
   ]
  },
  {
   "cell_type": "code",
   "execution_count": 17,
   "metadata": {
    "collapsed": false
   },
   "outputs": [
    {
     "name": "stdout",
     "output_type": "stream",
     "text": [
      "LdaModel(num_terms=37385, num_topics=20, decay=0.5, chunksize=2000)\n"
     ]
    }
   ],
   "source": [
    "print(ldamodel)"
   ]
  },
  {
   "cell_type": "code",
   "execution_count": 18,
   "metadata": {
    "collapsed": false
   },
   "outputs": [
    {
     "name": "stdout",
     "output_type": "stream",
     "text": [
      "[(0, '0.118*\"sismo\" + 0.029*\"#fuerzamexico\" + 0.021*\"tras\" + 0.020*\"#mexicounido\" + 0.020*\"después\" + 0.013*\"méxico\" + 0.012*\"septiembre\" + 0.011*\"hoy\" + 0.011*\"ser\" + 0.010*\"nuevo\"'), (1, '0.174*\"#fuerzamexico\" + 0.103*\"#sismo\" + 0.049*\"#cdmx\" + 0.034*\"#mexicoestadepie\" + 0.027*\"#sismocdmx\" + 0.021*\"#mexico\" + 0.019*\"#sismomexico2017\" + 0.015*\"#prayformexico\" + 0.014*\"#fuertemexico\" + 0.012*\"..\"'), (2, '0.155*\"🇲\" + 0.154*\"🇽\" + 0.079*\"#fuerzamexico\" + 0.016*\"💪\" + 0.014*\"#mexicotequiero\" + 0.013*\"méxico\" + 0.012*\"🏼\" + 0.012*\"siempre\" + 0.012*\"️\" + 0.010*\"si\"'), (3, '0.039*\"víveres\" + 0.023*\"#sismo\" + 0.022*\"seguimos\" + 0.018*\"|\" + 0.017*\"recibiendo\" + 0.016*\"personas\" + 0.015*\"apoyo\" + 0.014*\"hola\" + 0.013*\"damnificados\" + 0.013*\"siguen\"'), (4, '0.045*\"ayuda\" + 0.030*\"️\" + 0.028*\"#fuerzaméxico\" + 0.027*\"d\" + 0.021*\"🚨\" + 0.018*\"🙌\" + 0.018*\"difundir\" + 0.017*\"⚠\" + 0.012*\"mil\" + 0.012*\"m\"'), (5, '0.066*\"sísmica\" + 0.064*\"alerta\" + 0.063*\"gracias\" + 0.030*\"alarma\" + 0.018*\"parque\" + 0.016*\"muchas\" + 0.012*\"ayuda\" + 0.011*\"rescate\" + 0.010*\"afectadas\" + 0.009*\"miedo\"'), (6, '0.081*\"ayuda\" + 0.030*\"necesita\" + 0.026*\"víveres\" + 0.021*\"necesitan\" + 0.021*\"urge\" + 0.021*\"favor\" + 0.018*\"derrumbe\" + 0.016*\"si\" + 0.016*\"col\" + 0.014*\"calle\"'), (7, '0.064*\"albergue\" + 0.022*\"ayuda\" + 0.021*\"#verificado19s\" + 0.019*\"casas\" + 0.016*\"si\" + 0.015*\"mancera\" + 0.012*\"cuenta\" + 0.012*\"gabriel\" + 0.012*\"detectas\" + 0.009*\"bueno\"'), (8, '0.036*\"falta\" + 0.025*\"hace\" + 0.025*\"ayuda\" + 0.024*\"víveres\" + 0.018*\"medicamentos\" + 0.016*\"agua\" + 0.015*\"obregón\" + 0.014*\"5\" + 0.013*\"material\" + 0.013*\"álvaro\"'), (9, '0.063*\"#fuerzamexico\" + 0.058*\"méxico\" + 0.044*\"mexico\" + 0.043*\"❤\" + 0.037*\"#fuerzaméxico\" + 0.025*\"️\" + 0.020*\"@\" + 0.018*\"ciudad\" + 0.016*\"vamos\" + 0.014*\"city\"'), (10, '0.033*\"sismo\" + 0.027*\"mañana\" + 0.023*\"sep\" + 0.020*\"am\" + 0.017*\"víctimas\" + 0.017*\"víveres\" + 0.017*\"autoridades\" + 0.016*\"partidos\" + 0.016*\"7\" + 0.015*\"seguir\"'), (11, '0.037*\"#fuerzamexico\" + 0.036*\"sismo\" + 0.023*\"día\" + 0.021*\"vía\" + 0.019*\"vida\" + 0.019*\"donar\" + 0.018*\"cada\" + 0.015*\"dónde\" + 0.012*\"federal\" + 0.012*\"hermanos\"'), (12, '0.036*\"#fuerzamexico\" + 0.028*\"#ayudacdmx\" + 0.023*\"#sismo\" + 0.022*\"casi\" + 0.016*\"amigos\" + 0.015*\"🐶\" + 0.015*\"si\" + 0.014*\"@comoayudarmx\" + 0.013*\"ayuda\" + 0.011*\"dejen\"'), (13, '0.123*\"acopio\" + 0.089*\"centro\" + 0.033*\"ayuda\" + 0.026*\"centros\" + 0.022*\"si\" + 0.017*\"necesitamos\" + 0.014*\"alguien\" + 0.013*\"llevar\" + 0.011*\"necesitan\" + 0.011*\"mucha\"'), (14, '0.047*\"#alertasismica\" + 0.040*\"#sismo\" + 0.022*\"semana\" + 0.018*\"#rt\" + 0.017*\"#ayuda\" + 0.016*\"#fuerteméxico\" + 0.013*\"👇\" + 0.012*\"ayuda\" + 0.012*\"mascotas\" + 0.011*\"cruz\"'), (15, '0.033*\"👏\" + 0.023*\"sismo\" + 0.020*\"17\" + 0.014*\"23\" + 0.013*\"in\" + 0.010*\"👍\" + 0.009*\"tlalpan\" + 0.009*\"escuelas\" + 0.009*\"creo\" + 0.008*\"@chumeltorres\"'), (16, '0.060*\"ayuda\" + 0.037*\"morelos\" + 0.025*\"oaxaca\" + 0.020*\"va\" + 0.020*\"días\" + 0.016*\"puebla\" + 0.014*\"urgente\" + 0.014*\"viveres\" + 0.014*\"niños\" + 0.013*\"aún\"'), (17, '0.105*\"#fuerzaméxico\" + 0.022*\"#morelos\" + 0.018*\"ayuda\" + 0.017*\"solidaridad\" + 0.014*\"pueblo\" + 0.013*\"alto\" + 0.013*\"#sismo\" + 0.012*\"corazón\" + 0.012*\"#puebla\" + 0.012*\"mexicanos\"'), (18, '0.046*\"ayuda\" + 0.036*\"q\" + 0.021*\"gobierno\" + 0.017*\"@gobcdmx\" + 0.013*\"sigamos\" + 0.011*\"@manceramiguelmx\" + 0.011*\"@epn\" + 0.010*\"#oaxaca\" + 0.009*\"trabajo\" + 0.009*\"ahí\"'), (19, '0.063*\"🙏\" + 0.050*\"🏻\" + 0.035*\"#fuerzaméxico\" + 0.035*\"#fuerzamexico\" + 0.026*\"🏼\" + 0.025*\"ayuda\" + 0.021*\"gracias\" + 0.020*\"cosas\" + 0.017*\"”\" + 0.013*\"#centrodeacopio\"')]\n"
     ]
    }
   ],
   "source": [
    "print(ldamodel.print_topics())"
   ]
  },
  {
   "cell_type": "code",
   "execution_count": 21,
   "metadata": {
    "collapsed": false
   },
   "outputs": [],
   "source": [
    "ldamodel.save(fname=\"ldamodel\")"
   ]
  },
  {
   "cell_type": "code",
   "execution_count": null,
   "metadata": {
    "collapsed": true
   },
   "outputs": [],
   "source": []
  }
 ],
 "metadata": {
  "kernelspec": {
   "display_name": "Python 3",
   "language": "python",
   "name": "python3"
  },
  "language_info": {
   "codemirror_mode": {
    "name": "ipython",
    "version": 3
   },
   "file_extension": ".py",
   "mimetype": "text/x-python",
   "name": "python",
   "nbconvert_exporter": "python",
   "pygments_lexer": "ipython3",
   "version": "3.5.2+"
  }
 },
 "nbformat": 4,
 "nbformat_minor": 2
}
